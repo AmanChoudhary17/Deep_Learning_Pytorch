{
  "nbformat": 4,
  "nbformat_minor": 0,
  "metadata": {
    "colab": {
      "provenance": []
    },
    "kernelspec": {
      "name": "python3",
      "display_name": "Python 3"
    },
    "language_info": {
      "name": "python"
    }
  },
  "cells": [
    {
      "cell_type": "code",
      "execution_count": null,
      "metadata": {
        "id": "cfRvmkpoUC-4"
      },
      "outputs": [],
      "source": [
        "from sklearn.datasets import make_classification\n",
        "import torch"
      ]
    },
    {
      "cell_type": "code",
      "source": [
        "#  Step 1 : Create a synthetic classification dataset using slearn\n",
        "x, y = make_classification(\n",
        "    n_samples =10,      # Number of Samples\n",
        "    n_features = 10,    # Number of features\n",
        "    n_informative = 2,  # Number of informative features\n",
        "    n_redundant = 0,    # Number of redundant features\n",
        "    n_classes = 2,      # Number of classes\n",
        "    random_state =42    # for reproductivity\n",
        ")"
      ],
      "metadata": {
        "id": "utm3Hd3zcFiz"
      },
      "execution_count": null,
      "outputs": []
    },
    {
      "cell_type": "code",
      "source": [
        "x"
      ],
      "metadata": {
        "colab": {
          "base_uri": "https://localhost:8080/"
        },
        "id": "UaHo-Vg7c_rl",
        "outputId": "e238cf3e-6f40-486a-f89f-dd7adb8de32c"
      },
      "execution_count": null,
      "outputs": [
        {
          "output_type": "execute_result",
          "data": {
            "text/plain": [
              "array([[-0.70205309, -1.46351495,  1.97686236, -0.39210815, -0.5297602 ,\n",
              "         0.96864499, -2.8953973 ,  0.51326743,  0.09707755, -0.32766215],\n",
              "       [-1.47852199,  1.05712223, -1.97171753, -0.46063877,  0.73846658,\n",
              "        -0.3011037 , -0.58723065,  0.17136828, -0.11564828, -0.71984421],\n",
              "       [ 0.36163603,  1.53803657, -0.97007347,  0.36139561,  0.81252582,\n",
              "         1.0035329 ,  1.06833894,  1.35624003, -0.07201012, -0.64511975],\n",
              "       [ 0.2088636 ,  0.19686124, -0.96059253, -1.32818605, -0.01349722,\n",
              "        -1.22084365, -0.72063436, -1.05771093,  0.82254491, -1.95967012],\n",
              "       [ 0.25755039, -0.02651388,  0.83444483, -1.91877122, -0.16128571,\n",
              "         0.17457781,  1.89969252,  0.40405086,  1.8861859 , -0.07444592],\n",
              "       [-0.676922  ,  0.93128012, -0.83879234,  1.03099952,  0.34361829,\n",
              "        -0.38508228, -1.14021544, -1.76304016,  0.32408397,  0.61167629],\n",
              "       [-1.41537074, -0.80227727,  1.51157598, -0.34271452,  0.29612028,\n",
              "        -0.23458713,  1.77736657,  0.26105527,  0.00511346, -0.42064532],\n",
              "       [-0.47917424, -1.19620662, -0.54304815, -1.10633497, -0.83921752,\n",
              "         0.97554513, -0.9382051 , -0.30921238,  0.33126343, -0.18565898],\n",
              "       [-0.8084936 ,  0.32875111, -0.99225135,  0.91540212, -0.21967189,\n",
              "        -0.51827022, -1.96287438,  0.35711257,  1.47789404, -0.50175704],\n",
              "       [ 0.08704707, -1.98756891, -1.18582677,  0.09176078, -0.03582604,\n",
              "         0.8219025 ,  1.72725924,  1.56464366, -2.6197451 , -0.29900735]])"
            ]
          },
          "metadata": {},
          "execution_count": 4
        }
      ]
    },
    {
      "cell_type": "code",
      "source": [
        "X = torch.tensor(x,dtype = torch.float32)\n",
        "y = torch.tensor(y,dtype = torch.long)"
      ],
      "metadata": {
        "id": "YISoGZytdLOU"
      },
      "execution_count": null,
      "outputs": []
    },
    {
      "cell_type": "code",
      "source": [
        "from torch.utils.data import Dataset, DataLoader"
      ],
      "metadata": {
        "id": "WuctlNiidaFH"
      },
      "execution_count": null,
      "outputs": []
    },
    {
      "cell_type": "code",
      "source": [
        "class CustomDataset(Dataset):\n",
        "  def __init__(self,features,labels):\n",
        "    self.features =features\n",
        "    self.labels = labels\n",
        "\n",
        "  def __len__(self):\n",
        "    return self.features.shape[0]\n",
        "\n",
        "  def __getitem__(self,index):\n",
        "\n",
        "    return self.features[index] , self.labels[index]"
      ],
      "metadata": {
        "id": "M1q51Rumdl0E"
      },
      "execution_count": null,
      "outputs": []
    },
    {
      "cell_type": "code",
      "source": [
        "dataset = CustomDataset(X,y)"
      ],
      "metadata": {
        "id": "08PUmXkSdugX"
      },
      "execution_count": null,
      "outputs": []
    },
    {
      "cell_type": "code",
      "source": [
        "len(dataset)\n"
      ],
      "metadata": {
        "colab": {
          "base_uri": "https://localhost:8080/"
        },
        "id": "kgUmTkqRePSi",
        "outputId": "e4ef8b2c-d667-41ff-f4f6-aaac1222d31b"
      },
      "execution_count": null,
      "outputs": [
        {
          "output_type": "execute_result",
          "data": {
            "text/plain": [
              "10"
            ]
          },
          "metadata": {},
          "execution_count": 20
        }
      ]
    },
    {
      "cell_type": "code",
      "source": [
        "dataset[2]"
      ],
      "metadata": {
        "colab": {
          "base_uri": "https://localhost:8080/"
        },
        "id": "Vh6746r1fWVn",
        "outputId": "d3c0b83e-82e4-40fb-f6ac-5e818532bd85"
      },
      "execution_count": null,
      "outputs": [
        {
          "output_type": "execute_result",
          "data": {
            "text/plain": [
              "(tensor([ 0.3616,  1.5380, -0.9701,  0.3614,  0.8125,  1.0035,  1.0683,  1.3562,\n",
              "         -0.0720, -0.6451]),\n",
              " tensor(1))"
            ]
          },
          "metadata": {},
          "execution_count": 21
        }
      ]
    },
    {
      "cell_type": "code",
      "source": [
        "dataloader = DataLoader(dataset,batch_size=2,shuffle= True)"
      ],
      "metadata": {
        "id": "oNUCKlmMfYB7"
      },
      "execution_count": null,
      "outputs": []
    },
    {
      "cell_type": "code",
      "source": [
        "for  batch_features,batch_labels in dataloader :\n",
        "   print(batch_features)\n",
        "   print(batch_labels)\n",
        "   print(\"-\"*80)\n"
      ],
      "metadata": {
        "colab": {
          "base_uri": "https://localhost:8080/"
        },
        "id": "R-qkQT3Lfg_L",
        "outputId": "74f62ee1-e705-44f7-f640-2780767a8181"
      },
      "execution_count": null,
      "outputs": [
        {
          "output_type": "stream",
          "name": "stdout",
          "text": [
            "tensor([[-0.8085,  0.3288, -0.9923,  0.9154, -0.2197, -0.5183, -1.9629,  0.3571,\n",
            "          1.4779, -0.5018],\n",
            "        [ 0.0870, -1.9876, -1.1858,  0.0918, -0.0358,  0.8219,  1.7273,  1.5646,\n",
            "         -2.6197, -0.2990]])\n",
            "tensor([0, 1])\n",
            "--------------------------------------------------------------------------------\n",
            "tensor([[-1.4785,  1.0571, -1.9717, -0.4606,  0.7385, -0.3011, -0.5872,  0.1714,\n",
            "         -0.1156, -0.7198],\n",
            "        [-1.4154, -0.8023,  1.5116, -0.3427,  0.2961, -0.2346,  1.7774,  0.2611,\n",
            "          0.0051, -0.4206]])\n",
            "tensor([0, 1])\n",
            "--------------------------------------------------------------------------------\n",
            "tensor([[ 0.2089,  0.1969, -0.9606, -1.3282, -0.0135, -1.2208, -0.7206, -1.0577,\n",
            "          0.8225, -1.9597],\n",
            "        [-0.4792, -1.1962, -0.5430, -1.1063, -0.8392,  0.9755, -0.9382, -0.3092,\n",
            "          0.3313, -0.1857]])\n",
            "tensor([0, 1])\n",
            "--------------------------------------------------------------------------------\n",
            "tensor([[ 0.3616,  1.5380, -0.9701,  0.3614,  0.8125,  1.0035,  1.0683,  1.3562,\n",
            "         -0.0720, -0.6451],\n",
            "        [-0.7021, -1.4635,  1.9769, -0.3921, -0.5298,  0.9686, -2.8954,  0.5133,\n",
            "          0.0971, -0.3277]])\n",
            "tensor([1, 0])\n",
            "--------------------------------------------------------------------------------\n",
            "tensor([[ 0.2576, -0.0265,  0.8344, -1.9188, -0.1613,  0.1746,  1.8997,  0.4041,\n",
            "          1.8862, -0.0744],\n",
            "        [-0.6769,  0.9313, -0.8388,  1.0310,  0.3436, -0.3851, -1.1402, -1.7630,\n",
            "          0.3241,  0.6117]])\n",
            "tensor([1, 0])\n",
            "--------------------------------------------------------------------------------\n"
          ]
        }
      ]
    },
    {
      "cell_type": "code",
      "source": [],
      "metadata": {
        "id": "HvB3JhRsf1DU"
      },
      "execution_count": null,
      "outputs": []
    }
  ]
}