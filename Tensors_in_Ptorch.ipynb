{
  "nbformat": 4,
  "nbformat_minor": 0,
  "metadata": {
    "colab": {
      "provenance": [],
      "collapsed_sections": [
        "WkgJRJTwJjGl",
        "8j6D8LN7KLGJ",
        "HXkGpE35K2BC"
      ],
      "gpuType": "T4"
    },
    "kernelspec": {
      "name": "python3",
      "display_name": "Python 3"
    },
    "language_info": {
      "name": "python"
    },
    "accelerator": "GPU"
  },
  "cells": [
    {
      "cell_type": "code",
      "execution_count": null,
      "metadata": {
        "colab": {
          "base_uri": "https://localhost:8080/"
        },
        "id": "GUc8j9InCdqS",
        "outputId": "93dfaa8b-5305-40ae-8289-74d8cd8f91a3"
      },
      "outputs": [
        {
          "output_type": "stream",
          "name": "stdout",
          "text": [
            "2.6.0+cu124\n"
          ]
        }
      ],
      "source": [
        "import torch\n",
        "print(torch.__version__)"
      ]
    },
    {
      "cell_type": "code",
      "source": [
        "if torch.cuda.is_available():\n",
        "  print(\"GPU is available\")\n",
        "  print(f\"Using GPU : {torch.cuda.get_device_name(0)}\")\n",
        "else:\n",
        "  print(\"GPU not available.\")"
      ],
      "metadata": {
        "colab": {
          "base_uri": "https://localhost:8080/"
        },
        "id": "SVJTU_UKClzK",
        "outputId": "217785b4-1ea4-4cd6-d58a-b420acfee690"
      },
      "execution_count": null,
      "outputs": [
        {
          "output_type": "stream",
          "name": "stdout",
          "text": [
            "GPU not available.\n"
          ]
        }
      ]
    },
    {
      "cell_type": "code",
      "source": [
        "# crearting tensors"
      ],
      "metadata": {
        "id": "yiM7bms2DCta"
      },
      "execution_count": null,
      "outputs": []
    },
    {
      "cell_type": "code",
      "source": [
        "# using empty\n",
        "a =torch.empty(2,3)"
      ],
      "metadata": {
        "id": "-8XMyFBnDnGw"
      },
      "execution_count": null,
      "outputs": []
    },
    {
      "cell_type": "code",
      "source": [
        "# check type\n",
        "type(a)"
      ],
      "metadata": {
        "colab": {
          "base_uri": "https://localhost:8080/"
        },
        "id": "Eo-RZgepDsPc",
        "outputId": "ecebca38-6fba-473d-9abd-537451f69c1e"
      },
      "execution_count": null,
      "outputs": [
        {
          "output_type": "execute_result",
          "data": {
            "text/plain": [
              "torch.Tensor"
            ]
          },
          "metadata": {},
          "execution_count": 31
        }
      ]
    },
    {
      "cell_type": "code",
      "source": [
        "# using zeros\n",
        "torch.zeros(2,4)"
      ],
      "metadata": {
        "colab": {
          "base_uri": "https://localhost:8080/"
        },
        "id": "yk5YQqiNDyxK",
        "outputId": "523695ea-7d92-4042-c1e9-512f0c2d586a"
      },
      "execution_count": null,
      "outputs": [
        {
          "output_type": "execute_result",
          "data": {
            "text/plain": [
              "tensor([[0., 0., 0., 0.],\n",
              "        [0., 0., 0., 0.]])"
            ]
          },
          "metadata": {},
          "execution_count": 32
        }
      ]
    },
    {
      "cell_type": "code",
      "source": [
        "# using ones\n",
        "torch.ones(2,4)"
      ],
      "metadata": {
        "colab": {
          "base_uri": "https://localhost:8080/"
        },
        "id": "4vVZ5YvFD6Zp",
        "outputId": "dc066870-2454-4e6b-b48a-8a52e390d065"
      },
      "execution_count": null,
      "outputs": [
        {
          "output_type": "execute_result",
          "data": {
            "text/plain": [
              "tensor([[1., 1., 1., 1.],\n",
              "        [1., 1., 1., 1.]])"
            ]
          },
          "metadata": {},
          "execution_count": 33
        }
      ]
    },
    {
      "cell_type": "code",
      "source": [
        "# using rand\n",
        "torch.rand(2,3)"
      ],
      "metadata": {
        "colab": {
          "base_uri": "https://localhost:8080/"
        },
        "id": "MiuiikkFD_Tr",
        "outputId": "f8d98b03-b3f8-4b25-e5da-3561dc17626f"
      },
      "execution_count": null,
      "outputs": [
        {
          "output_type": "execute_result",
          "data": {
            "text/plain": [
              "tensor([[0.2566, 0.7936, 0.9408],\n",
              "        [0.1332, 0.9346, 0.5936]])"
            ]
          },
          "metadata": {},
          "execution_count": 34
        }
      ]
    },
    {
      "cell_type": "code",
      "source": [
        "# use of seed\n",
        "torch.manual_seed(42)\n",
        "torch.rand(2,3)"
      ],
      "metadata": {
        "colab": {
          "base_uri": "https://localhost:8080/"
        },
        "id": "LM2Qc-hFEDNi",
        "outputId": "b4d734d7-438a-46b2-8d4a-d4b396099952"
      },
      "execution_count": null,
      "outputs": [
        {
          "output_type": "execute_result",
          "data": {
            "text/plain": [
              "tensor([[0.8823, 0.9150, 0.3829],\n",
              "        [0.9593, 0.3904, 0.6009]])"
            ]
          },
          "metadata": {},
          "execution_count": 35
        }
      ]
    },
    {
      "cell_type": "code",
      "source": [
        "# using tensor\n",
        "torch.tensor([[1,2,3],[4,5,6]])"
      ],
      "metadata": {
        "colab": {
          "base_uri": "https://localhost:8080/"
        },
        "id": "x2uB1Hd9EE_D",
        "outputId": "67bd3c85-50b8-4354-fd2f-f0e3d63c0f69"
      },
      "execution_count": null,
      "outputs": [
        {
          "output_type": "execute_result",
          "data": {
            "text/plain": [
              "tensor([[1, 2, 3],\n",
              "        [4, 5, 6]])"
            ]
          },
          "metadata": {},
          "execution_count": 36
        }
      ]
    },
    {
      "cell_type": "code",
      "source": [
        "# other ways\n",
        "\n",
        "# using arange\n",
        "print(torch.arange(0,3,1))\n",
        "\n",
        "# using linspace\n",
        "print(torch.linspace(0,10,15))\n",
        "\n",
        "# using eye\n",
        "print(torch.eye(5))\n",
        "\n",
        "# using full\n",
        "print(torch.full((3,3),5))"
      ],
      "metadata": {
        "colab": {
          "base_uri": "https://localhost:8080/"
        },
        "id": "0cW2iCLlEaeA",
        "outputId": "8b7bd4ea-50a0-4c6b-d065-47f790372063"
      },
      "execution_count": null,
      "outputs": [
        {
          "output_type": "stream",
          "name": "stdout",
          "text": [
            "tensor([0, 1, 2])\n",
            "tensor([ 0.0000,  0.7143,  1.4286,  2.1429,  2.8571,  3.5714,  4.2857,  5.0000,\n",
            "         5.7143,  6.4286,  7.1429,  7.8571,  8.5714,  9.2857, 10.0000])\n",
            "tensor([[1., 0., 0., 0., 0.],\n",
            "        [0., 1., 0., 0., 0.],\n",
            "        [0., 0., 1., 0., 0.],\n",
            "        [0., 0., 0., 1., 0.],\n",
            "        [0., 0., 0., 0., 1.]])\n",
            "tensor([[5, 5, 5],\n",
            "        [5, 5, 5],\n",
            "        [5, 5, 5]])\n"
          ]
        }
      ]
    },
    {
      "cell_type": "code",
      "source": [],
      "metadata": {
        "id": "10zQS288Ehth"
      },
      "execution_count": null,
      "outputs": []
    },
    {
      "cell_type": "code",
      "source": [
        "# shapes of tensors\n",
        "a.shape"
      ],
      "metadata": {
        "colab": {
          "base_uri": "https://localhost:8080/"
        },
        "id": "lNSNd5qSFlEQ",
        "outputId": "73228f9f-2e5c-435c-be0a-96d189cecb9d"
      },
      "execution_count": null,
      "outputs": [
        {
          "output_type": "execute_result",
          "data": {
            "text/plain": [
              "torch.Size([2, 3])"
            ]
          },
          "metadata": {},
          "execution_count": 39
        }
      ]
    },
    {
      "cell_type": "code",
      "source": [
        "torch.empty_like(a)"
      ],
      "metadata": {
        "colab": {
          "base_uri": "https://localhost:8080/"
        },
        "id": "OH9lA-lhFo5Y",
        "outputId": "a6207130-8eeb-4418-d48a-58f264adaef6"
      },
      "execution_count": null,
      "outputs": [
        {
          "output_type": "execute_result",
          "data": {
            "text/plain": [
              "tensor([[2.6676e-14, 0.0000e+00, 2.0272e-14],\n",
              "        [0.0000e+00, 2.3694e-38, 2.3694e-38]])"
            ]
          },
          "metadata": {},
          "execution_count": 40
        }
      ]
    },
    {
      "cell_type": "code",
      "source": [
        "torch.zeros_like(a)"
      ],
      "metadata": {
        "colab": {
          "base_uri": "https://localhost:8080/"
        },
        "id": "8Sxd-5mdFzDg",
        "outputId": "d31c80b8-365e-4231-f9b9-41a4f17744ae"
      },
      "execution_count": null,
      "outputs": [
        {
          "output_type": "execute_result",
          "data": {
            "text/plain": [
              "tensor([[0., 0., 0.],\n",
              "        [0., 0., 0.]])"
            ]
          },
          "metadata": {},
          "execution_count": 41
        }
      ]
    },
    {
      "cell_type": "code",
      "source": [
        "torch.ones_like(a)"
      ],
      "metadata": {
        "colab": {
          "base_uri": "https://localhost:8080/"
        },
        "id": "QnRdqoomF1zJ",
        "outputId": "9e2fcd28-ce77-4860-c84f-d197dce9cff6"
      },
      "execution_count": null,
      "outputs": [
        {
          "output_type": "execute_result",
          "data": {
            "text/plain": [
              "tensor([[1., 1., 1.],\n",
              "        [1., 1., 1.]])"
            ]
          },
          "metadata": {},
          "execution_count": 42
        }
      ]
    },
    {
      "cell_type": "code",
      "source": [
        "torch.rand_like(a,dtype = torch.float32)"
      ],
      "metadata": {
        "colab": {
          "base_uri": "https://localhost:8080/"
        },
        "id": "b_Dj6YnCGrUO",
        "outputId": "b0a53e6f-ad8b-4aa5-c94b-82588928753a"
      },
      "execution_count": null,
      "outputs": [
        {
          "output_type": "execute_result",
          "data": {
            "text/plain": [
              "tensor([[0.2566, 0.7936, 0.9408],\n",
              "        [0.1332, 0.9346, 0.5936]])"
            ]
          },
          "metadata": {},
          "execution_count": 49
        }
      ]
    },
    {
      "cell_type": "code",
      "source": [],
      "metadata": {
        "id": "T9WerYefF44Y"
      },
      "execution_count": null,
      "outputs": []
    },
    {
      "cell_type": "code",
      "source": [
        "# tensor Data Types\n"
      ],
      "metadata": {
        "id": "EDemGLPqGAjs"
      },
      "execution_count": null,
      "outputs": []
    },
    {
      "cell_type": "code",
      "source": [
        "# find dtype\n",
        "a.dtype\n",
        "\n",
        "# assign data type\n",
        "torch.tensor([1.0,2.0,3.0],dtype = torch.int32)"
      ],
      "metadata": {
        "colab": {
          "base_uri": "https://localhost:8080/"
        },
        "id": "28byEJzpGCLu",
        "outputId": "be9c26dc-73b4-4197-9cf9-d9e1fcee3c2e"
      },
      "execution_count": null,
      "outputs": [
        {
          "output_type": "execute_result",
          "data": {
            "text/plain": [
              "tensor([1, 2, 3], dtype=torch.int32)"
            ]
          },
          "metadata": {},
          "execution_count": 46
        }
      ]
    },
    {
      "cell_type": "code",
      "source": [
        "a.to(torch.int32)"
      ],
      "metadata": {
        "colab": {
          "base_uri": "https://localhost:8080/"
        },
        "id": "r3lwF5PDGIr2",
        "outputId": "8755e9d8-feb0-4714-e02e-d51b33bb05d0"
      },
      "execution_count": null,
      "outputs": [
        {
          "output_type": "execute_result",
          "data": {
            "text/plain": [
              "tensor([[0, 0, 0],\n",
              "        [0, 0, 0]], dtype=torch.int32)"
            ]
          },
          "metadata": {},
          "execution_count": 48
        }
      ]
    },
    {
      "cell_type": "code",
      "source": [],
      "metadata": {
        "id": "agpECSUgGeKv"
      },
      "execution_count": null,
      "outputs": []
    },
    {
      "cell_type": "markdown",
      "source": [
        "# Inplace Operations\n"
      ],
      "metadata": {
        "id": "WkgJRJTwJjGl"
      }
    },
    {
      "cell_type": "code",
      "source": [
        "# inplace operations\n",
        "\n",
        "m  =torch.rand(2,3)\n",
        "n  =torch.rand(2,3)\n",
        "print(m)\n",
        "print(n)"
      ],
      "metadata": {
        "colab": {
          "base_uri": "https://localhost:8080/"
        },
        "id": "H4E0e0bgJQHb",
        "outputId": "2934a482-2063-4fed-8bca-578c4cfc276c"
      },
      "execution_count": null,
      "outputs": [
        {
          "output_type": "stream",
          "name": "stdout",
          "text": [
            "tensor([[0.8694, 0.5677, 0.7411],\n",
            "        [0.4294, 0.8854, 0.5739]])\n",
            "tensor([[0.2666, 0.6274, 0.2696],\n",
            "        [0.4414, 0.2969, 0.8317]])\n"
          ]
        }
      ]
    },
    {
      "cell_type": "code",
      "source": [
        "m+n"
      ],
      "metadata": {
        "colab": {
          "base_uri": "https://localhost:8080/"
        },
        "id": "WYNZ3KW-JY-V",
        "outputId": "1b68ac37-c156-46d8-b151-fba8b60ae5d8"
      },
      "execution_count": null,
      "outputs": [
        {
          "output_type": "execute_result",
          "data": {
            "text/plain": [
              "tensor([[1.1360, 1.1952, 1.0107],\n",
              "        [0.8708, 1.1824, 1.4056]])"
            ]
          },
          "metadata": {},
          "execution_count": 52
        }
      ]
    },
    {
      "cell_type": "code",
      "source": [
        "m.add_(n)"
      ],
      "metadata": {
        "colab": {
          "base_uri": "https://localhost:8080/"
        },
        "id": "LmqLdxVnJalA",
        "outputId": "cba12b31-529d-4c27-bcb1-25f21803e51d"
      },
      "execution_count": null,
      "outputs": [
        {
          "output_type": "execute_result",
          "data": {
            "text/plain": [
              "tensor([[1.1360, 1.1952, 1.0107],\n",
              "        [0.8708, 1.1824, 1.4056]])"
            ]
          },
          "metadata": {},
          "execution_count": 53
        }
      ]
    },
    {
      "cell_type": "code",
      "source": [
        "m"
      ],
      "metadata": {
        "colab": {
          "base_uri": "https://localhost:8080/"
        },
        "id": "uY0nLMZDJ1X5",
        "outputId": "e915f14c-65c3-4df3-b650-aedf72ead345"
      },
      "execution_count": null,
      "outputs": [
        {
          "output_type": "execute_result",
          "data": {
            "text/plain": [
              "tensor([[1.1360, 1.1952, 1.0107],\n",
              "        [0.8708, 1.1824, 1.4056]])"
            ]
          },
          "metadata": {},
          "execution_count": 54
        }
      ]
    },
    {
      "cell_type": "code",
      "source": [
        "m = torch.relu(m)"
      ],
      "metadata": {
        "id": "7NpTVVw8J13o"
      },
      "execution_count": null,
      "outputs": []
    },
    {
      "cell_type": "code",
      "source": [
        "m"
      ],
      "metadata": {
        "colab": {
          "base_uri": "https://localhost:8080/"
        },
        "id": "mXV9dt1IJ8Qo",
        "outputId": "6f363910-b1b9-497a-df1e-0e149d96e67c"
      },
      "execution_count": null,
      "outputs": [
        {
          "output_type": "execute_result",
          "data": {
            "text/plain": [
              "tensor([[1.1360, 1.1952, 1.0107],\n",
              "        [0.8708, 1.1824, 1.4056]])"
            ]
          },
          "metadata": {},
          "execution_count": 57
        }
      ]
    },
    {
      "cell_type": "code",
      "source": [],
      "metadata": {
        "id": "2i4Qs7qQJ-ED"
      },
      "execution_count": null,
      "outputs": []
    },
    {
      "cell_type": "markdown",
      "source": [
        "# Copying tensor\n"
      ],
      "metadata": {
        "id": "8j6D8LN7KLGJ"
      }
    },
    {
      "cell_type": "code",
      "source": [
        "a = torch.rand(2,3)"
      ],
      "metadata": {
        "id": "JyqI4RmnKOjK"
      },
      "execution_count": null,
      "outputs": []
    },
    {
      "cell_type": "code",
      "source": [
        "b =a"
      ],
      "metadata": {
        "id": "vWz45I42KXN9"
      },
      "execution_count": null,
      "outputs": []
    },
    {
      "cell_type": "code",
      "source": [
        "a[0][0]  = 0"
      ],
      "metadata": {
        "id": "VAI5jN-HKYSh"
      },
      "execution_count": null,
      "outputs": []
    },
    {
      "cell_type": "code",
      "source": [
        "b[0][0]"
      ],
      "metadata": {
        "colab": {
          "base_uri": "https://localhost:8080/"
        },
        "id": "roiuqtMWKaIu",
        "outputId": "eabf20b7-5af8-4ec2-ca95-9a1dc1618694"
      },
      "execution_count": null,
      "outputs": [
        {
          "output_type": "execute_result",
          "data": {
            "text/plain": [
              "tensor(0.)"
            ]
          },
          "metadata": {},
          "execution_count": 63
        }
      ]
    },
    {
      "cell_type": "code",
      "source": [
        "print(id(a))\n",
        "print(id(b))"
      ],
      "metadata": {
        "colab": {
          "base_uri": "https://localhost:8080/"
        },
        "id": "NInzHscsKbJ-",
        "outputId": "e13ae335-1a85-43e6-d2cc-346546c038de"
      },
      "execution_count": null,
      "outputs": [
        {
          "output_type": "stream",
          "name": "stdout",
          "text": [
            "133787815457808\n",
            "133787815457808\n"
          ]
        }
      ]
    },
    {
      "cell_type": "code",
      "source": [
        "b = a.clone()"
      ],
      "metadata": {
        "id": "GaqzHv6WKi6l"
      },
      "execution_count": null,
      "outputs": []
    },
    {
      "cell_type": "code",
      "source": [
        "a[0][1] = 5"
      ],
      "metadata": {
        "id": "sh3qXIQFKmIg"
      },
      "execution_count": null,
      "outputs": []
    },
    {
      "cell_type": "code",
      "source": [
        "b[0][1]"
      ],
      "metadata": {
        "colab": {
          "base_uri": "https://localhost:8080/"
        },
        "id": "IM85mqG5KnjZ",
        "outputId": "a03bc815-dd5e-4d91-eebd-05b25d464191"
      },
      "execution_count": null,
      "outputs": [
        {
          "output_type": "execute_result",
          "data": {
            "text/plain": [
              "tensor(0.2695)"
            ]
          },
          "metadata": {},
          "execution_count": 67
        }
      ]
    },
    {
      "cell_type": "code",
      "source": [],
      "metadata": {
        "id": "5vMcsKdYKoiJ"
      },
      "execution_count": null,
      "outputs": []
    },
    {
      "cell_type": "markdown",
      "source": [
        "# Mathematical Operations"
      ],
      "metadata": {
        "id": "2Vmle4NnKqoC"
      }
    },
    {
      "cell_type": "code",
      "source": [
        "x = torch.rand(2,3)"
      ],
      "metadata": {
        "id": "tu7MjFiSKxn5"
      },
      "execution_count": null,
      "outputs": []
    },
    {
      "cell_type": "code",
      "source": [
        "print(x+32)\n",
        "print(x-2)\n",
        "print(x*4)\n",
        "print((x*8)//2)\n",
        "print((x*7) %3)\n",
        "print(x**2)"
      ],
      "metadata": {
        "colab": {
          "base_uri": "https://localhost:8080/"
        },
        "id": "0XBikDp-ODPJ",
        "outputId": "4d8d2280-6c56-498f-a0da-c61eb99bee43"
      },
      "execution_count": null,
      "outputs": [
        {
          "output_type": "stream",
          "name": "stdout",
          "text": [
            "tensor([[32.3140, 32.1236, 32.8457],\n",
            "        [32.3331, 32.2419, 32.6340]])\n",
            "tensor([[-1.6860, -1.8764, -1.1543],\n",
            "        [-1.6669, -1.7581, -1.3660]])\n",
            "tensor([[1.2561, 0.4945, 3.3826],\n",
            "        [1.3323, 0.9676, 2.5361]])\n",
            "tensor([[1., 0., 3.],\n",
            "        [1., 0., 2.]])\n",
            "tensor([[2.1982, 0.8653, 2.9196],\n",
            "        [2.3315, 1.6933, 1.4382]])\n",
            "tensor([[0.0986, 0.0153, 0.7151],\n",
            "        [0.1109, 0.0585, 0.4020]])\n"
          ]
        }
      ]
    },
    {
      "cell_type": "code",
      "source": [],
      "metadata": {
        "id": "r3nva79pOY0X"
      },
      "execution_count": null,
      "outputs": []
    },
    {
      "cell_type": "markdown",
      "source": [
        "# Tesor Operations on GPU"
      ],
      "metadata": {
        "id": "HXkGpE35K2BC"
      }
    },
    {
      "cell_type": "code",
      "source": [
        "torch.cuda.is_available()"
      ],
      "metadata": {
        "colab": {
          "base_uri": "https://localhost:8080/"
        },
        "id": "OQc2RwCzK6gb",
        "outputId": "afc1c25b-c774-4086-83f9-c18596d860d3"
      },
      "execution_count": null,
      "outputs": [
        {
          "output_type": "execute_result",
          "data": {
            "text/plain": [
              "True"
            ]
          },
          "metadata": {},
          "execution_count": 3
        }
      ]
    },
    {
      "cell_type": "code",
      "source": [
        "device  = torch.device('cuda')"
      ],
      "metadata": {
        "id": "gKUGxfr1LFIB"
      },
      "execution_count": null,
      "outputs": []
    },
    {
      "cell_type": "code",
      "source": [
        "# creating a new tensor  on GPU\n",
        "b  =torch.rand((2,3),device  = device)"
      ],
      "metadata": {
        "id": "r9Qhz9KcLf3k"
      },
      "execution_count": null,
      "outputs": []
    },
    {
      "cell_type": "code",
      "source": [
        "b+5"
      ],
      "metadata": {
        "colab": {
          "base_uri": "https://localhost:8080/"
        },
        "id": "VRq8GFQGLiUU",
        "outputId": "daf254d0-0a1d-46a0-b8ff-3f7b517e62b9"
      },
      "execution_count": null,
      "outputs": [
        {
          "output_type": "execute_result",
          "data": {
            "text/plain": [
              "tensor([[5.5890, 5.1352, 5.0574],\n",
              "        [5.4003, 5.1277, 5.3716]], device='cuda:0')"
            ]
          },
          "metadata": {},
          "execution_count": 8
        }
      ]
    },
    {
      "cell_type": "code",
      "source": [],
      "metadata": {
        "id": "h0lat4AbL-iJ"
      },
      "execution_count": null,
      "outputs": []
    },
    {
      "cell_type": "markdown",
      "source": [
        "# Resahping Tensor"
      ],
      "metadata": {
        "id": "84bUtuUMMVeo"
      }
    },
    {
      "cell_type": "code",
      "source": [
        "a = torch.rand(4,4)"
      ],
      "metadata": {
        "id": "M0Bz0GFjMX6Y"
      },
      "execution_count": null,
      "outputs": []
    },
    {
      "cell_type": "code",
      "source": [
        "a.reshape(2,2,2,2)"
      ],
      "metadata": {
        "colab": {
          "base_uri": "https://localhost:8080/"
        },
        "id": "9c4MDRc4MaIP",
        "outputId": "707e6977-5df9-4bdb-d156-a7cb045db45f"
      },
      "execution_count": null,
      "outputs": [
        {
          "output_type": "execute_result",
          "data": {
            "text/plain": [
              "tensor([[[[0.7514, 0.2059],\n",
              "          [0.4915, 0.9476]],\n",
              "\n",
              "         [[0.8745, 0.4017],\n",
              "          [0.7536, 0.9907]]],\n",
              "\n",
              "\n",
              "        [[[0.5359, 0.3088],\n",
              "          [0.8413, 0.3048]],\n",
              "\n",
              "         [[0.1917, 0.6543],\n",
              "          [0.6905, 0.7827]]]])"
            ]
          },
          "metadata": {},
          "execution_count": 10
        }
      ]
    },
    {
      "cell_type": "code",
      "source": [
        "# flatten\n",
        "a.flatten()\n"
      ],
      "metadata": {
        "colab": {
          "base_uri": "https://localhost:8080/"
        },
        "id": "zCmMzQv0MdLf",
        "outputId": "6362fb91-1291-4a5f-92e9-01086d1d2f1f"
      },
      "execution_count": null,
      "outputs": [
        {
          "output_type": "execute_result",
          "data": {
            "text/plain": [
              "tensor([0.7514, 0.2059, 0.4915, 0.9476, 0.8745, 0.4017, 0.7536, 0.9907, 0.5359,\n",
              "        0.3088, 0.8413, 0.3048, 0.1917, 0.6543, 0.6905, 0.7827])"
            ]
          },
          "metadata": {},
          "execution_count": 15
        }
      ]
    },
    {
      "cell_type": "code",
      "source": [
        "b = torch.rand(3,2,4)"
      ],
      "metadata": {
        "id": "VpjFdL4kMwhq"
      },
      "execution_count": null,
      "outputs": []
    },
    {
      "cell_type": "code",
      "source": [
        "# permutee\n",
        "b.permute(2,0,1).shape"
      ],
      "metadata": {
        "colab": {
          "base_uri": "https://localhost:8080/"
        },
        "id": "3ZPccS-CMfs6",
        "outputId": "65d34c1c-4070-46fb-a606-6539b3836335"
      },
      "execution_count": null,
      "outputs": [
        {
          "output_type": "execute_result",
          "data": {
            "text/plain": [
              "torch.Size([4, 3, 2])"
            ]
          },
          "metadata": {},
          "execution_count": 17
        }
      ]
    },
    {
      "cell_type": "code",
      "source": [
        "# unsueeze\n",
        "c = torch.rand(128,128,3)\n",
        "\n",
        "c.unsqueeze(dim  = 0).shape"
      ],
      "metadata": {
        "colab": {
          "base_uri": "https://localhost:8080/"
        },
        "id": "yFmg6odjMzPK",
        "outputId": "a8723ea7-fbfd-4a78-cc2e-6d4f36823adc"
      },
      "execution_count": null,
      "outputs": [
        {
          "output_type": "execute_result",
          "data": {
            "text/plain": [
              "torch.Size([1, 128, 128, 3])"
            ]
          },
          "metadata": {},
          "execution_count": 20
        }
      ]
    },
    {
      "cell_type": "code",
      "source": [
        "# squeeze\n",
        "d = torch.rand(1,20)\n",
        "d.squeeze(0).shape"
      ],
      "metadata": {
        "colab": {
          "base_uri": "https://localhost:8080/"
        },
        "id": "lHPHLVtYM4Uf",
        "outputId": "d39f9d29-1fc5-4322-c29e-162edff8b57a"
      },
      "execution_count": null,
      "outputs": [
        {
          "output_type": "execute_result",
          "data": {
            "text/plain": [
              "torch.Size([20])"
            ]
          },
          "metadata": {},
          "execution_count": 21
        }
      ]
    },
    {
      "cell_type": "code",
      "source": [],
      "metadata": {
        "id": "l4Ts6VOlNNCQ"
      },
      "execution_count": null,
      "outputs": []
    },
    {
      "cell_type": "markdown",
      "source": [],
      "metadata": {
        "id": "jEuwhOT4NXQE"
      }
    },
    {
      "cell_type": "code",
      "source": [],
      "metadata": {
        "id": "50Lt4sNjNb3L"
      },
      "execution_count": null,
      "outputs": []
    },
    {
      "cell_type": "markdown",
      "source": [
        "# Numpy and Pytorch"
      ],
      "metadata": {
        "id": "xZ03hYLSNjSo"
      }
    },
    {
      "cell_type": "code",
      "source": [
        "import numpy as np\n",
        "a  =torch.tensor([1,2,3])"
      ],
      "metadata": {
        "id": "qWLupbAsNlpq"
      },
      "execution_count": null,
      "outputs": []
    },
    {
      "cell_type": "code",
      "source": [
        "b =a.numpy()"
      ],
      "metadata": {
        "id": "j_56XSgKNkTO"
      },
      "execution_count": null,
      "outputs": []
    },
    {
      "cell_type": "code",
      "source": [
        "b\n"
      ],
      "metadata": {
        "colab": {
          "base_uri": "https://localhost:8080/"
        },
        "id": "dwkt6c5-NyL5",
        "outputId": "1ae52c00-4b56-40da-c746-7c1c49a2239f"
      },
      "execution_count": null,
      "outputs": [
        {
          "output_type": "execute_result",
          "data": {
            "text/plain": [
              "array([1, 2, 3])"
            ]
          },
          "metadata": {},
          "execution_count": 24
        }
      ]
    },
    {
      "cell_type": "code",
      "source": [
        "type(b)"
      ],
      "metadata": {
        "colab": {
          "base_uri": "https://localhost:8080/"
        },
        "id": "27bDWmkaNzI-",
        "outputId": "7688eda1-b5e2-431a-d9a0-32a02a02cabe"
      },
      "execution_count": null,
      "outputs": [
        {
          "output_type": "execute_result",
          "data": {
            "text/plain": [
              "numpy.ndarray"
            ]
          },
          "metadata": {},
          "execution_count": 25
        }
      ]
    },
    {
      "cell_type": "code",
      "source": [
        "c  = np.array([1,2,3,4])"
      ],
      "metadata": {
        "id": "tT1kbfXoN0ap"
      },
      "execution_count": null,
      "outputs": []
    },
    {
      "cell_type": "code",
      "source": [
        "torch.from_numpy(c)"
      ],
      "metadata": {
        "colab": {
          "base_uri": "https://localhost:8080/"
        },
        "id": "S29WyStHN4Cs",
        "outputId": "809ce29e-a1bb-4291-80f1-817be3ec6a87"
      },
      "execution_count": null,
      "outputs": [
        {
          "output_type": "execute_result",
          "data": {
            "text/plain": [
              "tensor([1, 2, 3, 4])"
            ]
          },
          "metadata": {},
          "execution_count": 27
        }
      ]
    },
    {
      "cell_type": "code",
      "source": [],
      "metadata": {
        "id": "elZTEujsN6ft"
      },
      "execution_count": null,
      "outputs": []
    },
    {
      "cell_type": "markdown",
      "source": [
        "# Elemnt wise Operations"
      ],
      "metadata": {
        "id": "dRDHpceZOcwh"
      }
    },
    {
      "cell_type": "code",
      "source": [
        "a = torch.rand(2,3)\n",
        "b = torch.rand(2,3)"
      ],
      "metadata": {
        "id": "dtdpCUoVOfGB"
      },
      "execution_count": null,
      "outputs": []
    },
    {
      "cell_type": "code",
      "source": [
        "print(a+b)\n",
        "print(a-b)\n",
        "print(a*b)\n",
        "print(a/b)\n",
        "print(a%b)\n",
        "print(a**b)\n"
      ],
      "metadata": {
        "colab": {
          "base_uri": "https://localhost:8080/"
        },
        "id": "CgJVgGZhOlKx",
        "outputId": "ea0b87aa-5a72-43d5-e59f-a732f349cfa8"
      },
      "execution_count": null,
      "outputs": [
        {
          "output_type": "stream",
          "name": "stdout",
          "text": [
            "tensor([[1.2303, 0.8858, 0.2598],\n",
            "        [0.5789, 1.4788, 1.6162]])\n",
            "tensor([[-0.2800,  0.2234, -0.2572],\n",
            "        [ 0.5731,  0.3404, -0.3825]])\n",
            "tensor([[3.5883e-01, 1.8367e-01, 3.3455e-04],\n",
            "        [1.6778e-03, 5.1776e-01, 6.1641e-01]])\n",
            "tensor([[6.2921e-01, 1.6745e+00, 5.0065e-03],\n",
            "        [1.9774e+02, 1.5981e+00, 6.1724e-01]])\n",
            "tensor([[0.4752, 0.2234, 0.0013],\n",
            "        [0.0022, 0.3404, 0.6168]])\n",
            "tensor([[0.5701, 0.8226, 0.1792],\n",
            "        [0.9984, 0.9475, 0.6170]])\n"
          ]
        }
      ]
    },
    {
      "cell_type": "code",
      "source": [
        "c = torch.tensor([1,2,3,-2,-4,2,-6])\n"
      ],
      "metadata": {
        "id": "_nGLOWrlO79d"
      },
      "execution_count": null,
      "outputs": []
    },
    {
      "cell_type": "code",
      "source": [
        "# abs\n",
        "torch.abs(c)"
      ],
      "metadata": {
        "colab": {
          "base_uri": "https://localhost:8080/"
        },
        "id": "XQMI4fnSPCql",
        "outputId": "2d4f4b9e-45dc-4e98-8a0c-f3f8cd7f31e9"
      },
      "execution_count": null,
      "outputs": [
        {
          "output_type": "execute_result",
          "data": {
            "text/plain": [
              "tensor([1, 2, 3, 2, 4, 2, 6])"
            ]
          },
          "metadata": {},
          "execution_count": 35
        }
      ]
    },
    {
      "cell_type": "code",
      "source": [
        "# neg\n",
        "torch.neg(c)"
      ],
      "metadata": {
        "colab": {
          "base_uri": "https://localhost:8080/"
        },
        "id": "aqApQu1fPE0o",
        "outputId": "2fa360b8-7146-443e-ba58-1b1c8a273a1b"
      },
      "execution_count": null,
      "outputs": [
        {
          "output_type": "execute_result",
          "data": {
            "text/plain": [
              "tensor([-1, -2, -3,  2,  4, -2,  6])"
            ]
          },
          "metadata": {},
          "execution_count": 36
        }
      ]
    },
    {
      "cell_type": "code",
      "source": [
        "c = torch.tensor([1,2,3.8,-2.7,-4,2.3,-6.4])\n"
      ],
      "metadata": {
        "id": "hM34o0h1PP74"
      },
      "execution_count": null,
      "outputs": []
    },
    {
      "cell_type": "code",
      "source": [
        "# round\n",
        "torch.round(c)"
      ],
      "metadata": {
        "colab": {
          "base_uri": "https://localhost:8080/"
        },
        "id": "sZt1zHPzPJBN",
        "outputId": "00576b7e-c84d-4348-97da-26438d2d396b"
      },
      "execution_count": null,
      "outputs": [
        {
          "output_type": "execute_result",
          "data": {
            "text/plain": [
              "tensor([ 1.,  2.,  4., -3., -4.,  2., -6.])"
            ]
          },
          "metadata": {},
          "execution_count": 42
        }
      ]
    },
    {
      "cell_type": "code",
      "source": [
        "torch.ceil(c)"
      ],
      "metadata": {
        "colab": {
          "base_uri": "https://localhost:8080/"
        },
        "id": "iYoanL51PU8N",
        "outputId": "84bff353-ffdd-4560-e790-d3c075cf0991"
      },
      "execution_count": null,
      "outputs": [
        {
          "output_type": "execute_result",
          "data": {
            "text/plain": [
              "tensor([ 1.,  2.,  4., -2., -4.,  3., -6.])"
            ]
          },
          "metadata": {},
          "execution_count": 45
        }
      ]
    },
    {
      "cell_type": "code",
      "source": [
        "torch.floor(c)"
      ],
      "metadata": {
        "colab": {
          "base_uri": "https://localhost:8080/"
        },
        "id": "qf4R1b9YPgRT",
        "outputId": "cb08a90c-6458-4373-a6c4-67a10229b74b"
      },
      "execution_count": null,
      "outputs": [
        {
          "output_type": "execute_result",
          "data": {
            "text/plain": [
              "tensor([ 1.,  2.,  3., -3., -4.,  2., -7.])"
            ]
          },
          "metadata": {},
          "execution_count": 46
        }
      ]
    },
    {
      "cell_type": "code",
      "source": [
        "torch.clamp(c,min=-5,max = 5)"
      ],
      "metadata": {
        "colab": {
          "base_uri": "https://localhost:8080/"
        },
        "id": "wvMRSoxAPh3z",
        "outputId": "2adcaea5-647f-406d-f52a-0c2eb2e2031f"
      },
      "execution_count": null,
      "outputs": [
        {
          "output_type": "execute_result",
          "data": {
            "text/plain": [
              "tensor([ 1.0000,  2.0000,  3.8000, -2.7000, -4.0000,  2.3000, -5.0000])"
            ]
          },
          "metadata": {},
          "execution_count": 47
        }
      ]
    },
    {
      "cell_type": "code",
      "source": [],
      "metadata": {
        "id": "ySeh85WOPpyr"
      },
      "execution_count": null,
      "outputs": []
    },
    {
      "cell_type": "markdown",
      "source": [
        "# Reduction Ooperations"
      ],
      "metadata": {
        "id": "Z7BOUddNPutI"
      }
    },
    {
      "cell_type": "code",
      "source": [
        "e = torch.randint(size= (2,3),low = 0, high =10,dtype =torch.float32)"
      ],
      "metadata": {
        "id": "ICgdLlnbPxvO"
      },
      "execution_count": null,
      "outputs": []
    },
    {
      "cell_type": "code",
      "source": [
        "e\n"
      ],
      "metadata": {
        "colab": {
          "base_uri": "https://localhost:8080/"
        },
        "id": "aIMk2HYoP3xG",
        "outputId": "0c7d989c-f80c-49b4-fbcf-58041ad56f32"
      },
      "execution_count": null,
      "outputs": [
        {
          "output_type": "execute_result",
          "data": {
            "text/plain": [
              "tensor([[3., 9., 1.],\n",
              "        [7., 8., 3.]])"
            ]
          },
          "metadata": {},
          "execution_count": 54
        }
      ]
    },
    {
      "cell_type": "code",
      "source": [
        "# sum\n",
        "print(torch.sum(e))\n",
        "# sum along column\n",
        "print(torch.sum(e,0))\n",
        "# sum along rows\n",
        "print(torch.sum(e,1))\n",
        "# mean\n",
        "print(torch.mean(e))\n",
        "\n",
        "# mean along column\n",
        "print(torch.mean(e,dim = 0))\n",
        "# mean along rows\n",
        "print(torch.mean(e,1))\n",
        "\n",
        "\n",
        "# median\n",
        "print(torch.median(e))"
      ],
      "metadata": {
        "colab": {
          "base_uri": "https://localhost:8080/"
        },
        "id": "Bqi-XOROP4O5",
        "outputId": "534f4c38-f86b-4027-a2df-5a425045ce82"
      },
      "execution_count": null,
      "outputs": [
        {
          "output_type": "stream",
          "name": "stdout",
          "text": [
            "tensor(31.)\n",
            "tensor([10., 17.,  4.])\n",
            "tensor([13., 18.])\n",
            "tensor(5.1667)\n",
            "tensor([5.0000, 8.5000, 2.0000])\n",
            "tensor([4.3333, 6.0000])\n",
            "tensor(3.)\n"
          ]
        }
      ]
    },
    {
      "cell_type": "code",
      "source": [
        "# max min\n",
        "torch.max(e)\n",
        "torch.min(e)"
      ],
      "metadata": {
        "colab": {
          "base_uri": "https://localhost:8080/"
        },
        "id": "c5e9VTh8QKQW",
        "outputId": "04ad19da-1476-43af-eff3-a3655552f27a"
      },
      "execution_count": null,
      "outputs": [
        {
          "output_type": "execute_result",
          "data": {
            "text/plain": [
              "tensor(1.)"
            ]
          },
          "metadata": {},
          "execution_count": 60
        }
      ]
    },
    {
      "cell_type": "code",
      "source": [
        "torch.prod(e)"
      ],
      "metadata": {
        "colab": {
          "base_uri": "https://localhost:8080/"
        },
        "id": "KEoziE2WQsMD",
        "outputId": "3a43e96a-acb2-4530-f46b-13a3c269d9ec"
      },
      "execution_count": null,
      "outputs": [
        {
          "output_type": "execute_result",
          "data": {
            "text/plain": [
              "tensor(4536.)"
            ]
          },
          "metadata": {},
          "execution_count": 61
        }
      ]
    },
    {
      "cell_type": "code",
      "source": [
        "# standard variance\n",
        "print(torch.std(e))\n",
        "\n",
        "# variance\n",
        "print(torch.var(e))"
      ],
      "metadata": {
        "colab": {
          "base_uri": "https://localhost:8080/"
        },
        "id": "Dd7qDxlnQxzm",
        "outputId": "69efa0a0-82e8-43d1-b60d-69ce910fdb27"
      },
      "execution_count": null,
      "outputs": [
        {
          "output_type": "stream",
          "name": "stdout",
          "text": [
            "tensor(3.2506)\n",
            "tensor(10.5667)\n"
          ]
        }
      ]
    },
    {
      "cell_type": "code",
      "source": [
        "# argmax\n",
        "print(torch.argmax(e))\n",
        "\n",
        "# argmin\n",
        "print(torch.argmin(e))"
      ],
      "metadata": {
        "colab": {
          "base_uri": "https://localhost:8080/"
        },
        "id": "uyyU0eXPQ93W",
        "outputId": "8c18b5bd-06eb-4eac-9f2d-f1814dd160c1"
      },
      "execution_count": null,
      "outputs": [
        {
          "output_type": "stream",
          "name": "stdout",
          "text": [
            "tensor(1)\n",
            "tensor(2)\n"
          ]
        }
      ]
    },
    {
      "cell_type": "code",
      "source": [],
      "metadata": {
        "id": "b8fd6aWxRJLv"
      },
      "execution_count": null,
      "outputs": []
    },
    {
      "cell_type": "markdown",
      "source": [
        "# Matrix Operations"
      ],
      "metadata": {
        "id": "2qX6t7iTRMPT"
      }
    },
    {
      "cell_type": "code",
      "source": [
        "f = torch.tensor([1,2])\n",
        "g = torch.tensor([[3,2],[4 ,5]])"
      ],
      "metadata": {
        "id": "V7dNoPY3ROdQ"
      },
      "execution_count": null,
      "outputs": []
    },
    {
      "cell_type": "code",
      "source": [],
      "metadata": {
        "id": "w_Kcd7g0R6W9"
      },
      "execution_count": null,
      "outputs": []
    },
    {
      "cell_type": "code",
      "source": [],
      "metadata": {
        "id": "qMc_UwL2R4SL"
      },
      "execution_count": null,
      "outputs": []
    },
    {
      "cell_type": "code",
      "source": [
        "# matrix multiplication\n",
        "torch.matmul(f,g)\n"
      ],
      "metadata": {
        "colab": {
          "base_uri": "https://localhost:8080/"
        },
        "id": "N7ofnpcYRWpD",
        "outputId": "579932a0-76ba-489e-c3b4-296a1e270350"
      },
      "execution_count": null,
      "outputs": [
        {
          "output_type": "execute_result",
          "data": {
            "text/plain": [
              "tensor([11, 12])"
            ]
          },
          "metadata": {},
          "execution_count": 70
        }
      ]
    },
    {
      "cell_type": "code",
      "source": [
        "vector1 = torch.tensor([1,2])\n",
        "vector2 = torch.tensor([3,2])"
      ],
      "metadata": {
        "id": "qC9uQNkrRhQ0"
      },
      "execution_count": null,
      "outputs": []
    },
    {
      "cell_type": "code",
      "source": [
        "torch.dot(vector1,vector2)"
      ],
      "metadata": {
        "colab": {
          "base_uri": "https://localhost:8080/"
        },
        "id": "eGc9NbpiR7Iu",
        "outputId": "9b28b90c-5785-4094-9d24-fba2e65ec2bf"
      },
      "execution_count": null,
      "outputs": [
        {
          "output_type": "execute_result",
          "data": {
            "text/plain": [
              "tensor(7)"
            ]
          },
          "metadata": {},
          "execution_count": 72
        }
      ]
    },
    {
      "cell_type": "code",
      "source": [
        "torch.transpose(g,0,1)"
      ],
      "metadata": {
        "colab": {
          "base_uri": "https://localhost:8080/"
        },
        "id": "39JN3oTIR-gC",
        "outputId": "1a908b46-dd4d-49db-a0ca-e70c94ddea38"
      },
      "execution_count": null,
      "outputs": [
        {
          "output_type": "execute_result",
          "data": {
            "text/plain": [
              "tensor([[3, 4],\n",
              "        [2, 5]])"
            ]
          },
          "metadata": {},
          "execution_count": 73
        }
      ]
    },
    {
      "cell_type": "code",
      "source": [
        "h  = g.clone()\n",
        "h = h.to(torch.float32)"
      ],
      "metadata": {
        "id": "6rTooMlwSUdI"
      },
      "execution_count": null,
      "outputs": []
    },
    {
      "cell_type": "code",
      "source": [
        "# determinant\n",
        "torch.det(h)"
      ],
      "metadata": {
        "colab": {
          "base_uri": "https://localhost:8080/"
        },
        "id": "UVyX9aCRSDQU",
        "outputId": "8f741dfa-4699-49a1-8d27-686c10b7ced6"
      },
      "execution_count": null,
      "outputs": [
        {
          "output_type": "execute_result",
          "data": {
            "text/plain": [
              "tensor(7.)"
            ]
          },
          "metadata": {},
          "execution_count": 81
        }
      ]
    },
    {
      "cell_type": "code",
      "source": [
        "torch.inverse(h)"
      ],
      "metadata": {
        "colab": {
          "base_uri": "https://localhost:8080/"
        },
        "id": "BtohItMBSPRO",
        "outputId": "f87bdc7c-3ed9-4737-fb2d-ac969b8bb268"
      },
      "execution_count": null,
      "outputs": [
        {
          "output_type": "execute_result",
          "data": {
            "text/plain": [
              "tensor([[ 0.7143, -0.2857],\n",
              "        [-0.5714,  0.4286]])"
            ]
          },
          "metadata": {},
          "execution_count": 82
        }
      ]
    },
    {
      "cell_type": "code",
      "source": [],
      "metadata": {
        "id": "aN_VdrP5Sjsb"
      },
      "execution_count": null,
      "outputs": []
    },
    {
      "cell_type": "markdown",
      "source": [
        "# Speacial Functions"
      ],
      "metadata": {
        "id": "26GbrAfMSooS"
      }
    },
    {
      "cell_type": "code",
      "source": [
        "k = torch.randint(size = (2,3),low = 2, high = 10)"
      ],
      "metadata": {
        "id": "hpTrvE58Sq7b"
      },
      "execution_count": null,
      "outputs": []
    },
    {
      "cell_type": "code",
      "source": [],
      "metadata": {
        "id": "zEuuqvnVS6yR"
      },
      "execution_count": null,
      "outputs": []
    },
    {
      "cell_type": "code",
      "source": [
        "# log\n",
        "print(torch.log(k))"
      ],
      "metadata": {
        "colab": {
          "base_uri": "https://localhost:8080/"
        },
        "id": "43Ir8r35Sw0W",
        "outputId": "13c2b23f-a775-4333-dfba-5a4f563e19d1"
      },
      "execution_count": null,
      "outputs": [
        {
          "output_type": "stream",
          "name": "stdout",
          "text": [
            "tensor([[2.1972, 2.0794, 1.9459],\n",
            "        [1.7918, 0.6931, 1.3863]])\n"
          ]
        }
      ]
    },
    {
      "cell_type": "code",
      "source": [
        "# exp\n",
        "torch.exp(k)"
      ],
      "metadata": {
        "colab": {
          "base_uri": "https://localhost:8080/"
        },
        "id": "qeaeiy_oS0Ne",
        "outputId": "b2cd7414-7886-43c6-99db-1370051516fe"
      },
      "execution_count": null,
      "outputs": [
        {
          "output_type": "execute_result",
          "data": {
            "text/plain": [
              "tensor([[8.1031e+03, 2.9810e+03, 1.0966e+03],\n",
              "        [4.0343e+02, 7.3891e+00, 5.4598e+01]])"
            ]
          },
          "metadata": {},
          "execution_count": 88
        }
      ]
    },
    {
      "cell_type": "code",
      "source": [
        "# sqrt\n",
        "torch.sqrt(k)"
      ],
      "metadata": {
        "colab": {
          "base_uri": "https://localhost:8080/"
        },
        "id": "k-J202IvS4N9",
        "outputId": "22b998ca-ee29-4c8d-aef9-255fb5df3006"
      },
      "execution_count": null,
      "outputs": [
        {
          "output_type": "execute_result",
          "data": {
            "text/plain": [
              "tensor([[3.0000, 2.8284, 2.6458],\n",
              "        [2.4495, 1.4142, 2.0000]])"
            ]
          },
          "metadata": {},
          "execution_count": 89
        }
      ]
    },
    {
      "cell_type": "code",
      "source": [
        "# sigmoid\n",
        "torch.sigmoid(k)"
      ],
      "metadata": {
        "colab": {
          "base_uri": "https://localhost:8080/"
        },
        "id": "xFLPMh0MTAEE",
        "outputId": "230ad832-3c53-430f-a520-e3b609cf38b0"
      },
      "execution_count": null,
      "outputs": [
        {
          "output_type": "execute_result",
          "data": {
            "text/plain": [
              "tensor([[0.9999, 0.9997, 0.9991],\n",
              "        [0.9975, 0.8808, 0.9820]])"
            ]
          },
          "metadata": {},
          "execution_count": 90
        }
      ]
    },
    {
      "cell_type": "code",
      "source": [
        "# relu\n",
        "torch.relu(k)"
      ],
      "metadata": {
        "colab": {
          "base_uri": "https://localhost:8080/"
        },
        "id": "Y5_Y5iWsTFS9",
        "outputId": "211d9429-eb12-4774-9a74-2a06bd86ac1a"
      },
      "execution_count": null,
      "outputs": [
        {
          "output_type": "execute_result",
          "data": {
            "text/plain": [
              "tensor([[9, 8, 7],\n",
              "        [6, 2, 4]])"
            ]
          },
          "metadata": {},
          "execution_count": 91
        }
      ]
    },
    {
      "cell_type": "code",
      "source": [
        "l  =k.to(torch.float32)"
      ],
      "metadata": {
        "id": "nR_FHkRqTLO5"
      },
      "execution_count": null,
      "outputs": []
    },
    {
      "cell_type": "code",
      "source": [
        "# softmax\n",
        "torch.softmax(l,dim= 0)"
      ],
      "metadata": {
        "colab": {
          "base_uri": "https://localhost:8080/"
        },
        "id": "LzNSdjs4THIo",
        "outputId": "a5e33524-0230-4439-8cb4-3a0f4df92df0"
      },
      "execution_count": null,
      "outputs": [
        {
          "output_type": "execute_result",
          "data": {
            "text/plain": [
              "tensor([[0.9526, 0.9975, 0.9526],\n",
              "        [0.0474, 0.0025, 0.0474]])"
            ]
          },
          "metadata": {},
          "execution_count": 95
        }
      ]
    },
    {
      "cell_type": "code",
      "source": [],
      "metadata": {
        "id": "bbh45tX7TJoA"
      },
      "execution_count": null,
      "outputs": []
    }
  ]
}